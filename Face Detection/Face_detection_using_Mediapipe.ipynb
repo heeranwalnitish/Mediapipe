{
 "cells": [
  {
   "cell_type": "code",
   "execution_count": 1,
   "id": "1654dda2",
   "metadata": {},
   "outputs": [],
   "source": [
    "import cv2\n",
    "import mediapipe as mp"
   ]
  },
  {
   "cell_type": "code",
   "execution_count": 11,
   "id": "35c80626",
   "metadata": {},
   "outputs": [],
   "source": [
    "mp_face_detection = mp.solutions.face_detection\n",
    "mp_drawings = mp.solutions.drawing_utils"
   ]
  },
  {
   "cell_type": "markdown",
   "id": "34a43c99",
   "metadata": {},
   "source": [
    "For Static images:"
   ]
  },
  {
   "cell_type": "code",
   "execution_count": 13,
   "id": "a77f10a5",
   "metadata": {},
   "outputs": [
    {
     "name": "stdout",
     "output_type": "stream",
     "text": [
      "Nose tip:\n",
      "x: 0.49491530656814575\n",
      "y: 0.31656256318092346\n",
      "\n"
     ]
    }
   ],
   "source": [
    "IMAGE_FILES = [r'D:\\Important\\backup\\Documents\\id\\Nitish\\divu\\IMG-20191111-WA0022.jpg']\n",
    "with mp_face_detection.FaceDetection(model_selection = 1, min_detection_confidence = 0.5) as face_detection:\n",
    "    for idx, file in enumerate(IMAGE_FILES):\n",
    "        image = cv2.imread(file)\n",
    "        # Convert the BGR image to RGB and process it with the MediaPipe Face Detection.\n",
    "        results = face_detection.process(cv2.cvtColor(image, cv2.COLOR_BGR2RGB))\n",
    "        \n",
    "        # Draw face detections of each face.\n",
    "        if not results.detections:\n",
    "            continue\n",
    "            \n",
    "        annotated_image = image.copy()\n",
    "        for detection in results.detections:\n",
    "            print('Nose tip:')\n",
    "            print(mp_face_detection.get_key_point(detection, mp_face_detection.FaceKeyPoint.NOSE_TIP))\n",
    "            mp_drawings.draw_detection(annotated_image, detection)\n",
    "            \n",
    "        cv2.imwrite('../annoted_image'+ str(idx) + '.png', annotated_image)"
   ]
  },
  {
   "cell_type": "code",
   "execution_count": null,
   "id": "519e55ab",
   "metadata": {},
   "outputs": [],
   "source": [
    "#"
   ]
  }
 ],
 "metadata": {
  "kernelspec": {
   "display_name": "Python 3 (ipykernel)",
   "language": "python",
   "name": "python3"
  },
  "language_info": {
   "codemirror_mode": {
    "name": "ipython",
    "version": 3
   },
   "file_extension": ".py",
   "mimetype": "text/x-python",
   "name": "python",
   "nbconvert_exporter": "python",
   "pygments_lexer": "ipython3",
   "version": "3.9.7"
  }
 },
 "nbformat": 4,
 "nbformat_minor": 5
}
